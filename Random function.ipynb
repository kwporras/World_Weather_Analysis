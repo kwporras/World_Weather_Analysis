{
 "cells": [
  {
   "cell_type": "code",
   "execution_count": 1,
   "id": "5be2c8bd",
   "metadata": {},
   "outputs": [],
   "source": [
    "# Import the random module.\n",
    "import random"
   ]
  },
  {
   "cell_type": "code",
   "execution_count": 2,
   "id": "65a25956",
   "metadata": {},
   "outputs": [],
   "source": [
    "#list of random modules functions to be used\n",
    "#random.randint()\n",
    "#random.random()\n",
    "#random.randrange()\n",
    "#random.uniform()"
   ]
  },
  {
   "cell_type": "code",
   "execution_count": 3,
   "id": "aa9c177a",
   "metadata": {},
   "outputs": [
    {
     "data": {
      "text/plain": [
       "-45"
      ]
     },
     "execution_count": 3,
     "metadata": {},
     "output_type": "execute_result"
    }
   ],
   "source": [
    "random.randint(-90,90)"
   ]
  },
  {
   "cell_type": "code",
   "execution_count": 6,
   "id": "2f59003e",
   "metadata": {},
   "outputs": [
    {
     "data": {
      "text/plain": [
       "0.5869337771220797"
      ]
     },
     "execution_count": 6,
     "metadata": {},
     "output_type": "execute_result"
    }
   ],
   "source": [
    "random.random()"
   ]
  },
  {
   "cell_type": "code",
   "execution_count": 9,
   "id": "38207360",
   "metadata": {},
   "outputs": [
    {
     "data": {
      "text/plain": [
       "[0.13576610072539086,\n",
       " -36.54532243310613,\n",
       " -24.76195066223079,\n",
       " -4.833335786587097,\n",
       " -46.07876382558833,\n",
       " 27.34834726977211,\n",
       " -69.34870841086328,\n",
       " -21.85789022741153,\n",
       " 60.766749722618975,\n",
       " -85.20827409702882]"
      ]
     },
     "execution_count": 9,
     "metadata": {},
     "output_type": "execute_result"
    }
   ],
   "source": [
    "x = 1\n",
    "latitudes = []\n",
    "while x < 11:\n",
    "    random_lat = random.randint(-90, 89) + random.random()\n",
    "    latitudes.append(random_lat)\n",
    "    x += 1\n",
    "latitudes"
   ]
  },
  {
   "cell_type": "code",
   "execution_count": 10,
   "id": "4be84733",
   "metadata": {},
   "outputs": [
    {
     "data": {
      "text/plain": [
       "87"
      ]
     },
     "execution_count": 10,
     "metadata": {},
     "output_type": "execute_result"
    }
   ],
   "source": [
    "random.randrange(-90, 90, step=3)"
   ]
  },
  {
   "cell_type": "code",
   "execution_count": 11,
   "id": "d7779fe1",
   "metadata": {},
   "outputs": [
    {
     "data": {
      "text/plain": [
       "-83.52071167038031"
      ]
     },
     "execution_count": 11,
     "metadata": {},
     "output_type": "execute_result"
    }
   ],
   "source": [
    "random.uniform(-90, 90)"
   ]
  },
  {
   "cell_type": "code",
   "execution_count": 12,
   "id": "99e3800d",
   "metadata": {},
   "outputs": [],
   "source": [
    "# Import the NumPy module.\n",
    "import numpy as np"
   ]
  },
  {
   "cell_type": "code",
   "execution_count": 13,
   "id": "6f77457d",
   "metadata": {},
   "outputs": [
    {
     "data": {
      "text/plain": [
       "-64.68495840598743"
      ]
     },
     "execution_count": 13,
     "metadata": {},
     "output_type": "execute_result"
    }
   ],
   "source": [
    "np.random.uniform(-90.000, 90.000)\n",
    "#options way to write code np.random.uniform(low=-90, high=90)"
   ]
  },
  {
   "cell_type": "code",
   "execution_count": 14,
   "id": "413e6c32",
   "metadata": {},
   "outputs": [
    {
     "data": {
      "text/plain": [
       "array([ 25.99464811,  71.54772388, -69.75048862, -67.24266297,\n",
       "        10.53379793, -85.04170435,  13.15116215,  62.9806826 ,\n",
       "       -28.83540333,  25.02087388,  36.14548034, -28.22197367,\n",
       "       -41.35233363, -14.54195952,  39.14051146,  83.8772525 ,\n",
       "        57.11612528,  67.00712153,  32.26939994, -10.30925156,\n",
       "       -26.58618071, -40.14773973,  81.18331372, -17.75807954,\n",
       "         3.90438432, -28.74368112,  89.78644586, -12.03123005,\n",
       "        86.22939511, -64.28113822,  16.39746653, -10.85113944,\n",
       "       -45.57398933,  41.5719144 , -70.86854205, -53.22219303,\n",
       "       -66.19355536, -55.43758576,  62.58640204,  81.10159003,\n",
       "       -76.32795979,  72.53198942,  83.94124088, -41.2726374 ,\n",
       "       -80.04820016,  87.37558377,   8.7514252 , -67.45693952,\n",
       "       -32.61443113, -66.83285143])"
      ]
     },
     "execution_count": 14,
     "metadata": {},
     "output_type": "execute_result"
    }
   ],
   "source": [
    "np.random.uniform(-90.000, 90.000, size=50)"
   ]
  },
  {
   "cell_type": "code",
   "execution_count": 15,
   "id": "f4bdb150",
   "metadata": {},
   "outputs": [],
   "source": [
    "# Import timeit.\n",
    "import timeit"
   ]
  },
  {
   "cell_type": "code",
   "execution_count": 16,
   "id": "3c2191f9",
   "metadata": {},
   "outputs": [
    {
     "name": "stdout",
     "output_type": "stream",
     "text": [
      "14.7 µs ± 37.2 ns per loop (mean ± std. dev. of 7 runs, 100000 loops each)\n"
     ]
    }
   ],
   "source": [
    "%timeit np.random.uniform(-90.000, 90.000, size=1500)"
   ]
  },
  {
   "cell_type": "code",
   "execution_count": 30,
   "id": "cf6c6d58",
   "metadata": {},
   "outputs": [
    {
     "name": "stdout",
     "output_type": "stream",
     "text": [
      "2.07 ms ± 18.1 µs per loop (mean ± std. dev. of 7 runs, 100 loops each)\n"
     ]
    }
   ],
   "source": [
    "def latitudes(size):\n",
    "    latitudes = []\n",
    "    x = 0\n",
    "    while x < (size):\n",
    "        random_lat = random.randint(-90, 90) + random.random()\n",
    "        latitudes.append(random_lat)\n",
    "        x += 1\n",
    "    return latitudes\n",
    "# Call the function with 1500.\n",
    "%timeit latitudes(1500)"
   ]
  },
  {
   "cell_type": "code",
   "execution_count": 61,
   "id": "33623a4a",
   "metadata": {},
   "outputs": [],
   "source": [
    "# Did not figureout skill challenge"
   ]
  }
 ],
 "metadata": {
  "kernelspec": {
   "display_name": "PythonData",
   "language": "python",
   "name": "pythondata"
  },
  "language_info": {
   "codemirror_mode": {
    "name": "ipython",
    "version": 3
   },
   "file_extension": ".py",
   "mimetype": "text/x-python",
   "name": "python",
   "nbconvert_exporter": "python",
   "pygments_lexer": "ipython3",
   "version": "3.9.4"
  }
 },
 "nbformat": 4,
 "nbformat_minor": 5
}
